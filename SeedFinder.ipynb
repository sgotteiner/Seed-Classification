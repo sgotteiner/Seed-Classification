{
 "cells": [
  {
   "cell_type": "code",
   "execution_count": 1,
   "metadata": {},
   "outputs": [],
   "source": [
    "import os"
   ]
  },
  {
   "cell_type": "code",
   "execution_count": 2,
   "metadata": {},
   "outputs": [],
   "source": [
    "def find_paths_of_seeds(directory):\n",
    "    paths = []\n",
    "    for dirpath, _, filenames in os.walk(directory):\n",
    "        for file in filenames:\n",
    "            if file.endswith(\".npy\"):\n",
    "                relative_path = os.path.relpath(os.path.join(dirpath, file), start=directory)\n",
    "                paths.append(os.path.join(dirpath, file))\n",
    "    return paths"
   ]
  },
  {
   "cell_type": "code",
   "execution_count": 3,
   "metadata": {},
   "outputs": [],
   "source": [
    "all_seeds = find_paths_of_seeds(r'C:\\Users\\sagig\\Desktop\\Projects\\Seed-Classification\\home\\ARO.local\\collaboration\\Itai-tomer\\tomer_data')\n",
    "healthy_seeds = find_paths_of_seeds(r'C:\\Users\\sagig\\Desktop\\Projects\\Seed-Classification\\home\\ARO.local\\collaboration\\Itai-tomer\\tomer_data\\Healthy')\n",
    "infected_seeds = find_paths_of_seeds(r'C:\\Users\\sagig\\Desktop\\Projects\\Seed-Classification\\home\\ARO.local\\collaboration\\Itai-tomer\\tomer_data\\Infected')"
   ]
  }
 ],
 "metadata": {
  "kernelspec": {
   "display_name": "Python 3",
   "language": "python",
   "name": "python3"
  },
  "language_info": {
   "codemirror_mode": {
    "name": "ipython",
    "version": 3
   },
   "file_extension": ".py",
   "mimetype": "text/x-python",
   "name": "python",
   "nbconvert_exporter": "python",
   "pygments_lexer": "ipython3",
   "version": "3.10.11"
  }
 },
 "nbformat": 4,
 "nbformat_minor": 2
}
