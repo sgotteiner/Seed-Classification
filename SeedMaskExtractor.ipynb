{
 "cells": [
  {
   "cell_type": "code",
   "execution_count": 15,
   "metadata": {},
   "outputs": [],
   "source": [
    "import matplotlib.pyplot as plt\n",
    "import numpy as np\n",
    "import cv2\n",
    "import os"
   ]
  },
  {
   "cell_type": "code",
   "execution_count": 16,
   "metadata": {},
   "outputs": [],
   "source": [
    "def display_seed(seed):\n",
    "    plt.imshow(seed, cmap='gray')\n",
    "    plt.title(f'seed')\n",
    "    plt.colorbar()\n",
    "    plt.show()"
   ]
  },
  {
   "cell_type": "code",
   "execution_count": 17,
   "metadata": {},
   "outputs": [],
   "source": [
    "def find_seed_contour(seed, threshold=400):\n",
    "    normalized_image = cv2.normalize(seed.copy(), None, 0, 255, cv2.NORM_MINMAX)\n",
    "    image_uint8 = normalized_image.astype(np.uint8)\n",
    "\n",
    "    _, binary_image = cv2.threshold(image_uint8, int(threshold * 255 / 4096), 255, cv2.THRESH_BINARY)\n",
    "\n",
    "    contours, hierarchy = cv2.findContours(binary_image, cv2.RETR_EXTERNAL, cv2.CHAIN_APPROX_SIMPLE)\n",
    "    return max(contours, key=cv2.contourArea)"
   ]
  },
  {
   "cell_type": "code",
   "execution_count": 18,
   "metadata": {},
   "outputs": [],
   "source": [
    "def extract_width_height_from_contour(contour):\n",
    "    rightmost_point = max(contour, key=lambda point: point[0][0])  # Max x-coordinate\n",
    "    leftmost_point = min(contour, key=lambda point: point[0][0])  # Min x-coordinate\n",
    "    uppermost_point = min(contour, key=lambda point: point[0][1])  # Min y-coordinate\n",
    "    downmost_point = max(contour, key=lambda point: point[0][1])  # Max y-coordinate\n",
    "    y_uppermost, x_leftmost = uppermost_point[0][1] - 1, leftmost_point[0][0] - 1\n",
    "    y_downmost, x_rightmost = downmost_point[0][1] + 1, rightmost_point[0][0] + 1\n",
    "    return x_rightmost - x_leftmost - 1, y_downmost - y_uppermost - 1, x_leftmost, y_uppermost"
   ]
  },
  {
   "cell_type": "code",
   "execution_count": 19,
   "metadata": {},
   "outputs": [],
   "source": [
    "def find_seed_width_height_area(seed):\n",
    "    seed_contour = find_seed_contour(seed)\n",
    "    area = cv2.contourArea(seed_contour)\n",
    "    return *extract_width_height_from_contour(seed_contour), area"
   ]
  },
  {
   "cell_type": "code",
   "execution_count": 20,
   "metadata": {},
   "outputs": [],
   "source": [
    "def find_paths_of_seeds(directory):\n",
    "    paths = []\n",
    "    for dirpath, _, filenames in os.walk(directory):\n",
    "        for file in filenames:\n",
    "            if file.endswith(\".npy\"):\n",
    "                relative_path = os.path.relpath(os.path.join(dirpath, file), start=directory)\n",
    "                paths.append(relative_path)\n",
    "    return paths"
   ]
  },
  {
   "cell_type": "code",
   "execution_count": 21,
   "metadata": {},
   "outputs": [],
   "source": [
    "def find_max_width_height_area_of_seeds(seeds_folder):\n",
    "    max_width, max_height, max_area = 0, 0, 0\n",
    "    for path in find_paths_of_seeds(seeds_folder):\n",
    "        seed = np.load(os.path.join(seeds_folder, path))[:,:,200]\n",
    "        width, height, _, _, area = find_seed_width_height_area(seed)\n",
    "        max_width = width if width > max_width else max_width\n",
    "        max_height = height if height > max_height else max_height\n",
    "        max_area = area if area > max_area else max_area\n",
    "    return max_width, max_height, area"
   ]
  },
  {
   "cell_type": "code",
   "execution_count": 22,
   "metadata": {},
   "outputs": [],
   "source": [
    "from scipy.spatial import Delaunay\n",
    "\n",
    "def find_seed_mask(seed):\n",
    "    contour = find_seed_contour(seed)\n",
    "    width, height, x_start, y_start, _ = find_seed_width_height_area(seed)\n",
    "    points = contour.reshape(-1, 2)\n",
    "    tri = Delaunay(points)\n",
    "    mask = np.zeros(seed.shape, dtype=np.uint8)\n",
    "    for simplex in tri.simplices:\n",
    "        triangle = points[simplex]\n",
    "        cv2.fillConvexPoly(mask, triangle, 255)\n",
    "    cv2.drawContours(mask, contour, -1, (255), thickness=cv2.FILLED)\n",
    "    mask = mask[y_start:y_start+height, x_start:x_start+width]\n",
    "    masked_image = cv2.bitwise_and(seed[y_start:y_start+height, x_start:x_start+width], seed[y_start:y_start+height, x_start:x_start+width], mask=mask)\n",
    "    return masked_image"
   ]
  },
  {
   "cell_type": "code",
   "execution_count": 23,
   "metadata": {},
   "outputs": [],
   "source": [
    "def create_resized_image(masked_image, max_width, max_height):\n",
    "    resized_image = np.zeros((max_height + 2, max_width + 2), dtype=np.int64)  # +2 is for all the seeds to be surrounded by black\n",
    "    height, width = masked_image.shape\n",
    "    row_offset, column_offset = (max_height - height)//2 + 1, (max_width - width)//2 + 1\n",
    "    resized_image[row_offset:row_offset + height, column_offset:column_offset + width] = masked_image\n",
    "    return resized_image"
   ]
  },
  {
   "cell_type": "code",
   "execution_count": 24,
   "metadata": {},
   "outputs": [],
   "source": [
    "max_width, max_height, _ = find_max_width_height_area_of_seeds('home')\n",
    "seed_paths = find_paths_of_seeds('home')\n",
    "for path in seed_paths:\n",
    "    seed = np.load(os.path.join('home', path))[:,:,200].squeeze()\n",
    "    masked_image = find_seed_mask(seed)\n",
    "    resized_image = create_resized_image(masked_image, max_width, max_height)\n",
    "    # display_seed(resized_image)\n",
    "    # print('shape before:', seed.shape, '- shape after:', resized_image.shape)"
   ]
  }
 ],
 "metadata": {
  "kernelspec": {
   "display_name": "Python 3",
   "language": "python",
   "name": "python3"
  },
  "language_info": {
   "codemirror_mode": {
    "name": "ipython",
    "version": 3
   },
   "file_extension": ".py",
   "mimetype": "text/x-python",
   "name": "python",
   "nbconvert_exporter": "python",
   "pygments_lexer": "ipython3",
   "version": "3.10.11"
  }
 },
 "nbformat": 4,
 "nbformat_minor": 2
}
