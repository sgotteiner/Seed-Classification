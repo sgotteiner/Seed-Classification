{
 "cells": [
  {
   "cell_type": "code",
   "execution_count": 1,
   "metadata": {},
   "outputs": [],
   "source": [
    "import os"
   ]
  },
  {
   "cell_type": "code",
   "execution_count": 2,
   "metadata": {},
   "outputs": [],
   "source": [
    "def find_paths_of_seeds(directory):\n",
    "    paths = []\n",
    "    for dirpath, _, filenames in os.walk(directory):\n",
    "        for file in filenames:\n",
    "            if file.endswith(\".npy\"):\n",
    "                paths.append(os.path.join(dirpath, file))\n",
    "    return paths"
   ]
  },
  {
   "cell_type": "code",
   "execution_count": 3,
   "metadata": {},
   "outputs": [],
   "source": [
    "def seed_rename(old_name):\n",
    "    split_old_name = old_name.split('\\\\')\n",
    "    tray_number = split_old_name[-3][1]\n",
    "    position = split_old_name[-1].split('.')[0]\n",
    "    row = int(ord(position[1]) - ord('A'))\n",
    "    column = ord(position[0]) - ord('0') - 1\n",
    "    column = column if split_old_name[-3][2] == 'L' else column + 7\n",
    "    file_type = split_old_name[-1].split('.')[1]\n",
    "    new_name = f'Tray_{tray_number}_row_{row}_column_{column}.{file_type}'\n",
    "    return new_name"
   ]
  }
 ],
 "metadata": {
  "kernelspec": {
   "display_name": "Python 3",
   "language": "python",
   "name": "python3"
  },
  "language_info": {
   "codemirror_mode": {
    "name": "ipython",
    "version": 3
   },
   "file_extension": ".py",
   "mimetype": "text/x-python",
   "name": "python",
   "nbconvert_exporter": "python",
   "pygments_lexer": "ipython3",
   "version": "3.10.11"
  }
 },
 "nbformat": 4,
 "nbformat_minor": 2
}
