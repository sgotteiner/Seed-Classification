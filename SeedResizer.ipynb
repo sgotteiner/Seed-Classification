{
 "cells": [
  {
   "cell_type": "code",
   "execution_count": 23,
   "metadata": {},
   "outputs": [],
   "source": [
    "import matplotlib.pyplot as plt\n",
    "import numpy as np\n",
    "import os\n",
    "import ipynb\n",
    "import SeedMaskExtractor"
   ]
  },
  {
   "cell_type": "code",
   "execution_count": 15,
   "metadata": {},
   "outputs": [],
   "source": [
    "def display_seed(seed):\n",
    "    plt.imshow(seed, cmap='gray')\n",
    "    plt.title(f'seed')\n",
    "    plt.colorbar()\n",
    "    plt.show()"
   ]
  },
  {
   "cell_type": "code",
   "execution_count": 16,
   "metadata": {},
   "outputs": [],
   "source": [
    "def find_paths_of_seeds(directory):\n",
    "    paths = []\n",
    "    for dirpath, _, filenames in os.walk(directory):\n",
    "        for file in filenames:\n",
    "            if file.endswith(\".npy\"):\n",
    "                relative_path = os.path.relpath(os.path.join(dirpath, file), start=directory)\n",
    "                paths.append(relative_path)\n",
    "    return paths"
   ]
  },
  {
   "cell_type": "code",
   "execution_count": 17,
   "metadata": {},
   "outputs": [],
   "source": [
    "def find_max_width_height_area_of_seeds(seeds_folder):\n",
    "    max_width, max_height, max_area = 0, 0, 0\n",
    "    for path in find_paths_of_seeds(seeds_folder):\n",
    "        seed = np.load(os.path.join(seeds_folder, path))[:,:,200]\n",
    "        width, height, _, _, area = SeedMaskExtractor.find_seed_width_height_area(seed)\n",
    "        max_width = width if width > max_width else max_width\n",
    "        max_height = height if height > max_height else max_height\n",
    "        max_area = area if area > max_area else max_area\n",
    "    return max_width, max_height, area"
   ]
  },
  {
   "cell_type": "code",
   "execution_count": 18,
   "metadata": {},
   "outputs": [],
   "source": [
    "def create_resized_image(masked_image, max_width, max_height):\n",
    "    resized_image = np.zeros((max_height + 2, max_width + 2), dtype=np.int64)  # +2 is for all the seeds to be surrounded by black\n",
    "    height, width = masked_image.shape\n",
    "    row_offset, column_offset = (max_height - height)//2 + 1, (max_width - width)//2 + 1\n",
    "    resized_image[row_offset:row_offset + height, column_offset:column_offset + width] = masked_image\n",
    "    return resized_image"
   ]
  },
  {
   "cell_type": "code",
   "execution_count": 24,
   "metadata": {},
   "outputs": [
    {
     "ename": "AttributeError",
     "evalue": "'ModuleSpec' object has no attribute 'find_seed_mask'",
     "output_type": "error",
     "traceback": [
      "\u001b[1;31m---------------------------------------------------------------------------\u001b[0m",
      "\u001b[1;31mAttributeError\u001b[0m                            Traceback (most recent call last)",
      "Cell \u001b[1;32mIn[24], line 5\u001b[0m\n\u001b[0;32m      3\u001b[0m \u001b[38;5;28;01mfor\u001b[39;00m path \u001b[38;5;129;01min\u001b[39;00m seed_paths:\n\u001b[0;32m      4\u001b[0m     seed \u001b[38;5;241m=\u001b[39m np\u001b[38;5;241m.\u001b[39mload(os\u001b[38;5;241m.\u001b[39mpath\u001b[38;5;241m.\u001b[39mjoin(\u001b[38;5;124m'\u001b[39m\u001b[38;5;124mhome\u001b[39m\u001b[38;5;124m'\u001b[39m, path))[:,:,\u001b[38;5;241m200\u001b[39m]\u001b[38;5;241m.\u001b[39msqueeze()\n\u001b[1;32m----> 5\u001b[0m     masked_image \u001b[38;5;241m=\u001b[39m \u001b[43mSeedMaskExtractor\u001b[49m\u001b[38;5;241;43m.\u001b[39;49m\u001b[43mfind_seed_mask\u001b[49m(seed)\n\u001b[0;32m      6\u001b[0m     resized_image \u001b[38;5;241m=\u001b[39m create_resized_image(masked_image, max_width, max_height)\n\u001b[0;32m      7\u001b[0m     display_seed(resized_image)\n",
      "\u001b[1;31mAttributeError\u001b[0m: 'ModuleSpec' object has no attribute 'find_seed_mask'"
     ]
    }
   ],
   "source": [
    "max_width, max_height, _ = find_max_width_height_area_of_seeds('home')\n",
    "seed_paths = find_paths_of_seeds('home')\n",
    "for path in seed_paths:\n",
    "    seed = np.load(os.path.join('home', path))[:,:,200].squeeze()\n",
    "    masked_image = SeedMaskExtractor.find_seed_mask(seed)\n",
    "    resized_image = create_resized_image(masked_image, max_width, max_height)\n",
    "    display_seed(resized_image)\n",
    "    print('shape before:', seed.shape, '- shape after:', resized_image.shape)"
   ]
  }
 ],
 "metadata": {
  "kernelspec": {
   "display_name": "Python 3",
   "language": "python",
   "name": "python3"
  },
  "language_info": {
   "codemirror_mode": {
    "name": "ipython",
    "version": 3
   },
   "file_extension": ".py",
   "mimetype": "text/x-python",
   "name": "python",
   "nbconvert_exporter": "python",
   "pygments_lexer": "ipython3",
   "version": "3.10.11"
  }
 },
 "nbformat": 4,
 "nbformat_minor": 2
}
